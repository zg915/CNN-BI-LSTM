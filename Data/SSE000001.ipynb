{
 "cells": [
  {
   "cell_type": "code",
   "execution_count": null,
   "metadata": {},
   "outputs": [],
   "source": [
    "%pip install akshare"
   ]
  },
  {
   "cell_type": "code",
   "execution_count": 1,
   "metadata": {},
   "outputs": [],
   "source": [
    "import akshare as ak \n",
    "import pandas as pd"
   ]
  },
  {
   "cell_type": "code",
   "execution_count": 2,
   "metadata": {},
   "outputs": [],
   "source": [
    "sz_index_df = ak.index_zh_a_hist(symbol=\"000001\", period=\"daily\", start_date=\"19910701\", end_date=\"20200831\")"
   ]
  },
  {
   "cell_type": "code",
   "execution_count": 3,
   "metadata": {},
   "outputs": [],
   "source": [
    "# Drop the columns\n",
    "sz_index_df = sz_index_df.drop(['振幅', '换手率'],axis=1)\n",
    "# Then reorder the remaining columns\n",
    "sz_index_df = sz_index_df[['日期', '开盘', '最高','最低','收盘','成交量','成交额','涨跌额','涨跌幅']]\n",
    "# Directly assign the new column names\n",
    "sz_index_df.columns = ['date','Opening price', 'Highest price', 'Lowest price','Closing price', 'Volume(share)', 'Turnover(RMB)', 'Ups and downs', 'Change(%)']\n",
    "# volumn*100\n",
    "sz_index_df['Volume(share)']=sz_index_df['Volume(share)']*100\n",
    "# Set date as index\n",
    "sz_index_df = sz_index_df.set_index('date')"
   ]
  },
  {
   "cell_type": "code",
   "execution_count": 4,
   "metadata": {},
   "outputs": [],
   "source": [
    "sz_index_df.to_csv(\"SSE000001.csv\", header=True, index=True)"
   ]
  }
 ],
 "metadata": {
  "kernelspec": {
   "display_name": "general",
   "language": "python",
   "name": "python3"
  },
  "language_info": {
   "codemirror_mode": {
    "name": "ipython",
    "version": 3
   },
   "file_extension": ".py",
   "mimetype": "text/x-python",
   "name": "python",
   "nbconvert_exporter": "python",
   "pygments_lexer": "ipython3",
   "version": "3.11.4"
  }
 },
 "nbformat": 4,
 "nbformat_minor": 2
}
