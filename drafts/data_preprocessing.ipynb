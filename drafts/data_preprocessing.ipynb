{
 "cells": [
  {
   "cell_type": "code",
   "execution_count": 1,
   "metadata": {},
   "outputs": [],
   "source": [
    "import akshare as ak \n",
    "import pandas as pd\n",
    "import numpy as np\n",
    "from sklearn.preprocessing import StandardScaler\n",
    "import torch\n",
    "from torch.utils.data import Dataset\n",
    "from torch.utils.data import DataLoader"
   ]
  },
  {
   "cell_type": "code",
   "execution_count": 2,
   "metadata": {},
   "outputs": [],
   "source": [
    "timestep = 10\n",
    "batch_size = 64\n",
    "y_name = 'Closing price'\n",
    "train_size = 6627\n",
    "path = \"Data/SSE000001.csv\"\n"
   ]
  },
  {
   "cell_type": "code",
   "execution_count": 3,
   "metadata": {},
   "outputs": [],
   "source": [
    "def create_sequences(data, time_steps=10):\n",
    "    \"\"\"\n",
    "    Create sequences of time_steps length and corresponding targets from standardized data.\n",
    "\n",
    "    Parameters:\n",
    "    data (array-like): Input two-dimensional standardized data (num_samples, num_features).\n",
    "    time_steps (int): The size of the time step sequences.\n",
    "    n_features (int): The number of features in each time step.\n",
    "\n",
    "    Returns:\n",
    "    X, y: Tuple of numpy arrays\n",
    "          X is three-dimensional data of shape (None, time_steps, n_features) for the CNN-LSTM input.\n",
    "          y is a one-dimensional array of targets, which are the next values following each sequence.\n",
    "    \"\"\"\n",
    "    X = []\n",
    "    for i in range(len(data) - time_steps + 1):\n",
    "        X.append(data[i:i + time_steps, : ])\n",
    "    \n",
    "    return np.array(X)"
   ]
  },
  {
   "cell_type": "code",
   "execution_count": 4,
   "metadata": {},
   "outputs": [],
   "source": [
    "class TimeSeriesDataset(Dataset):\n",
    "    def __init__(self, X, y):\n",
    "        self.X = X\n",
    "        self.y = y\n",
    "\n",
    "    def __len__(self):\n",
    "        return len(self.X)\n",
    "\n",
    "    def __getitem__(self, i):\n",
    "        return self.X[i], self.y[i]"
   ]
  },
  {
   "cell_type": "code",
   "execution_count": 5,
   "metadata": {},
   "outputs": [],
   "source": [
    "raw_df = pd.read_csv(path, index_col=0)"
   ]
  },
  {
   "cell_type": "code",
   "execution_count": 6,
   "metadata": {},
   "outputs": [],
   "source": [
    "X_train = raw_df.iloc[:train_size]\n",
    "X_test = raw_df.iloc[train_size:]\n",
    "\n",
    "# Standardize the data\n",
    "X_scaler = StandardScaler()\n",
    "X_scaler.fit(X_train)\n",
    "X_train_stand = X_scaler.transform(X_train)\n",
    "X_test_stand = X_scaler.transform(X_test)\n",
    "\n",
    "# Convert into time-sequence\n",
    "X_train_stand = create_sequences(X_train_stand)\n",
    "X_test_stand = create_sequences(X_test_stand)[: -1, : , : ]\n",
    "\n",
    "\n",
    "y_train = raw_df[y_name].iloc[timestep : train_size + 1]\n",
    "y_test = raw_df[y_name].iloc[train_size + timestep :]\n",
    "\n",
    "y_train = y_train.values.reshape(-1, 1)\n",
    "y_test = y_test.values.reshape(-1, 1)\n",
    "\n",
    "y_scaler = StandardScaler()\n",
    "y_scaler.fit(y_train)\n",
    "y_train_stand = y_scaler.transform(y_train)\n",
    "y_test_stand = y_scaler.transform(y_test)"
   ]
  },
  {
   "cell_type": "code",
   "execution_count": 7,
   "metadata": {},
   "outputs": [
    {
     "data": {
      "text/plain": [
       "(torch.Size([6618, 10, 8]),\n",
       " torch.Size([490, 10, 8]),\n",
       " torch.Size([6618, 1]),\n",
       " torch.Size([490, 1]))"
      ]
     },
     "execution_count": 7,
     "metadata": {},
     "output_type": "execute_result"
    }
   ],
   "source": [
    "X_train = torch.tensor(X_train_stand).float()\n",
    "y_train = torch.tensor(y_train_stand).float()\n",
    "X_test = torch.tensor(X_test_stand).float()\n",
    "y_test = torch.tensor(y_test_stand).float()\n",
    "\n",
    "X_train.shape, X_test.shape, y_train.shape, y_test.shape"
   ]
  },
  {
   "cell_type": "code",
   "execution_count": 8,
   "metadata": {},
   "outputs": [],
   "source": [
    "train_dataset = TimeSeriesDataset(X_train, y_train)\n",
    "test_dataset = TimeSeriesDataset(X_test, y_test)"
   ]
  },
  {
   "cell_type": "code",
   "execution_count": 9,
   "metadata": {},
   "outputs": [],
   "source": [
    "train_loader = DataLoader(train_dataset, batch_size=batch_size, shuffle=True)\n",
    "test_loader = DataLoader(test_dataset, batch_size=batch_size, shuffle=False)"
   ]
  }
 ],
 "metadata": {
  "kernelspec": {
   "display_name": "general",
   "language": "python",
   "name": "python3"
  },
  "language_info": {
   "codemirror_mode": {
    "name": "ipython",
    "version": 3
   },
   "file_extension": ".py",
   "mimetype": "text/x-python",
   "name": "python",
   "nbconvert_exporter": "python",
   "pygments_lexer": "ipython3",
   "version": "3.11.4"
  }
 },
 "nbformat": 4,
 "nbformat_minor": 2
}
